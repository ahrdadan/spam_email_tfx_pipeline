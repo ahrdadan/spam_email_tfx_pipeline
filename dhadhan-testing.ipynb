{
 "cells": [
  {
   "cell_type": "markdown",
   "metadata": {},
   "source": [
    "# Check Koneksi"
   ]
  },
  {
   "cell_type": "code",
   "execution_count": 1,
   "metadata": {},
   "outputs": [
    {
     "name": "stdout",
     "output_type": "stream",
     "text": [
      "{'model_version_status': [{'state': 'AVAILABLE',\n",
      "                           'status': {'error_code': 'OK', 'error_message': ''},\n",
      "                           'version': '1714656685'}]}\n"
     ]
    }
   ],
   "source": [
    "import requests\n",
    "from pprint import PrettyPrinter\n",
    " \n",
    "pp = PrettyPrinter()\n",
    "pp.pprint(requests.get(\"http://147.139.204.52:8501/v1/models/spam-email-detection-model\").json())"
   ]
  },
  {
   "cell_type": "markdown",
   "metadata": {},
   "source": [
    "# Membuat Fungsi prediction request ke model serving"
   ]
  },
  {
   "cell_type": "code",
   "execution_count": 8,
   "metadata": {},
   "outputs": [],
   "source": [
    "import os\n",
    "import pandas as pd\n",
    "import tensorflow as tf\n",
    "import tensorflow_transform as tft\n",
    "import requests\n",
    "import json\n",
    "import base64\n",
    "\n",
    "FEATURE_KEY = \"Message\"\n",
    "\n",
    "def load_model_and_transform_fn(model_url):\n",
    "    \"\"\"Load the saved model from TensorFlow Serving\"\"\"\n",
    "    def serve_tf_examples_fn(serialized_tf_examples):\n",
    "        b64_serialized_examples = base64.b64encode(serialized_tf_examples).decode('utf-8')\n",
    "        payload = {\"instances\": [{\"examples\": {\"b64\": b64_serialized_examples}}]}\n",
    "        response = requests.post(model_url, json=payload)\n",
    "        predictions = json.loads(response.content.decode('utf-8'))['predictions']\n",
    "        return tf.constant(predictions)\n",
    "\n",
    "    return serve_tf_examples_fn\n",
    "\n",
    "\n",
    "url = 'http://147.139.204.52:8501/v1/models/spam-email-detection-model:predict'\n",
    "serve_tf_examples = load_model_and_transform_fn(url)\n",
    "\n",
    "def predict(text, serve_tf_examples):\n",
    "    \"\"\"Predict function\"\"\"\n",
    "    # Convert text into a serialized tf.Tensor\n",
    "    example = tf.train.Example()\n",
    "    example.features.feature[FEATURE_KEY].bytes_list.value.extend([tf.compat.as_bytes(text)])\n",
    "    serialized_example = example.SerializeToString()\n",
    "\n",
    "    # Make prediction\n",
    "    predictions = serve_tf_examples(serialized_example)\n",
    "    return predictions.numpy()"
   ]
  },
  {
   "cell_type": "markdown",
   "metadata": {},
   "source": [
    "# Menguji dan melakukan prediction request ke model serving yang telah dibuat."
   ]
  },
  {
   "cell_type": "code",
   "execution_count": 13,
   "metadata": {},
   "outputs": [
    {
     "name": "stdout",
     "output_type": "stream",
     "text": [
      "U dun say so early hor... U c already then say...\n",
      "\n",
      "Email classified as not spam. Predict Estimate: [[0.00501304]]\n"
     ]
    }
   ],
   "source": [
    "df   = pd.read_csv('data\\email.csv')\n",
    "msg = df[\"Message\"][3]\n",
    "\n",
    "prediction = predict(msg, serve_tf_examples)\n",
    "print(f'{msg}\\n')\n",
    "\n",
    "if prediction > 0.5:\n",
    "  print(f\"Email classified as spam. Predict Estimate: {prediction}\")\n",
    "else:\n",
    "  print(f\"Email classified as not spam. Predict Estimate: {prediction}\")"
   ]
  },
  {
   "cell_type": "code",
   "execution_count": null,
   "metadata": {},
   "outputs": [],
   "source": []
  }
 ],
 "metadata": {
  "kernelspec": {
   "display_name": ".venv",
   "language": "python",
   "name": "python3"
  },
  "language_info": {
   "codemirror_mode": {
    "name": "ipython",
    "version": 3
   },
   "file_extension": ".py",
   "mimetype": "text/x-python",
   "name": "python",
   "nbconvert_exporter": "python",
   "pygments_lexer": "ipython3",
   "version": "3.9.13"
  }
 },
 "nbformat": 4,
 "nbformat_minor": 2
}
